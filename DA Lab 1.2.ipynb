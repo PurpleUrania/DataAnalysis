{
 "cells": [
  {
   "cell_type": "code",
   "execution_count": 15,
   "id": "e3cd6029",
   "metadata": {},
   "outputs": [
    {
     "name": "stdout",
     "output_type": "stream",
     "text": [
      "Accuracy:  0.86\n"
     ]
    },
    {
     "data": {
      "text/plain": [
       "Text(0, 0.5, 'Y')"
      ]
     },
     "execution_count": 15,
     "metadata": {},
     "output_type": "execute_result"
    },
    {
     "data": {
      "image/png": "[encoded data removed]",
      "text/plain": [
       "<Figure size 432x288 with 1 Axes>"
      ]
     },
     "metadata": {
      "needs_background": "light"
     },
     "output_type": "display_data"
    },
    {
     "data": {
      "image/png": "[encoded data removed]",
      "text/plain": [
       "<Figure size 432x288 with 1 Axes>"
      ]
     },
     "metadata": {
      "needs_background": "light"
     },
     "output_type": "display_data"
    }
   ],
   "source": [
    "import matplotlib.pyplot as plt\n",
    "%matplotlib inline  \n",
    "\n",
    "import numpy as np\n",
    "from sklearn.linear_model import LinearRegression\n",
    "\n",
    "np.random.seed(0)\n",
    "\n",
    "num_points = 100 #кількість точок кожного класу\n",
    "\n",
    "#два синтетичних набори точок на площині\n",
    "mean_1 = [3, 2]  #Тточка (3,2) - почти как центр \n",
    "cov_1 = [[2, 0], [0, 1]] # разброс точек\n",
    "x_1 = np.random.multivariate_normal(mean_1, cov_1, num_points)\n",
    "mean_2 = [4, 5]\n",
    "cov_2 = [[2, 0], [0, 2]]\n",
    "x_2 = np.random.multivariate_normal(mean_2, cov_2, num_points)\n",
    "\n",
    "#Візуалізуйте результат\n",
    "plt.scatter(x_1[:, 0], x_1[:, 1], marker = '^', color='green')\n",
    "plt.scatter(x_2[:, 0], x_2[:, 1], marker = '*', color='indigo')\n",
    "plt.xlabel('X')\n",
    "plt.ylabel('Y')\n",
    "\n",
    "\n",
    "# додайте ім мітки класів (0 і 1)\n",
    "x = np.concatenate([x_1, x_2])\n",
    "labels = np.array([0] * num_points + [1] *  num_points)\n",
    "y = np.hstack((np.array([0] * num_points), np.array([1]*num_points)))\n",
    "# Розділіть дані на класи за допомогою логістичної регресії\n",
    "\n",
    "\n",
    "lr_a = 0.05\n",
    "lr_b= 1\n",
    "a0=np.array([0,0]) # 2 значения для 2мерного х\n",
    "b0=0\n",
    "\n",
    "\n",
    "# основуется на сигмоиде, знач 0 - 1\n",
    "# если сигмоида > 0,5 тогда 1, меньше - 0, так и определяется метка класса \n",
    "def sigmoida(value):\n",
    "    return 1 / (1 + np.exp(-value))\n",
    "\n",
    "#градиентный спуск\n",
    "a = a0\n",
    "b = b0\n",
    "for i in range(1000):  \n",
    "    f = sigmoida(x.dot(a) + b)  #сигмоида от формулы у\n",
    "    #векторное умножение + б \n",
    "    da = np.dot(x.T, (f - y))/x.shape[0] #транспонированный х вектор.умнож на разницу\n",
    "    #количество рядков в массиве х\n",
    "    db = (f - y).mean() #средняя разность\n",
    "    a = a - lr_a * da  #cам град. спуск\n",
    "    b = b - lr_b * db\n",
    "\n",
    "#Прогноз (у с шапочкой)\n",
    "predict = np.zeros(x.shape[0])  #заполняем по умолчанию 0\n",
    "f = sigmoida(x.dot(a) + b)  # вызов сигмоиды на рассчитатоном по гр спуске параметрам\n",
    "for i in range(x.shape[0]):   #запись в каждую строку\n",
    "    if(f[i] >= 0.5):   \n",
    "        predict[i] = 1    #перезапись1 там, где класс 1\n",
    "# средняя (меан) разность начального значения у и того, что предсказали\n",
    "\n",
    "\n",
    "#Mетрикa accuracy\n",
    "\n",
    "#чем больше разность между прогнозом и данными, тем меньше аккюранси\n",
    "print(\"Accuracy: \", 1 - abs(y-predict).mean())\n",
    "\n",
    "#Visual\n",
    "\n",
    "plt.figure(figsize=(6,4))# вторая картинка\n",
    "plt.scatter(x[:,0][predict==0], x[:,1][predict==0],color=\"green\", marker = '^')\n",
    "#массив двумерный, полуить резалт можно только с одномерного\n",
    "#рассмотривам двумерный х по каждому из \"размерностей\", прпавая и левая \n",
    "plt.scatter(x[:,0][predict==1], x[:,1][predict==1], color=\"indigo\", marker = '*')\n",
    "plt.xlabel('X')\n",
    "plt.ylabel('Y')"
   ]
  },
  {
   "cell_type": "code",
   "execution_count": 8,
   "id": "a815ddc2",
   "metadata": {},
   "outputs": [],
   "source": [
    "# num_points = 100\n",
    "# Accuracy:  0.86\n",
    "\n",
    "# num_points = 300\n",
    "# Accuracy:  0.8933333333333333\n",
    "# num_points = 1000\n",
    "# Accuracy:  0.9005\n",
    "\n",
    "# iterations = 10  (num_points = 100)\n",
    "# Accuracy:  0.795\n",
    "#  iterations = 10000\n",
    "#  Accuracy:  0.86\n",
    "#  iterations = 2000\n",
    "#  Accuracy:  0.855\n",
    "#\n",
    "#lr_a = 4\n",
    "#lr_b= 0.1\n",
    "#Accuracy:  0.79\n",
    "#\n",
    "#lr_a = 0.005\n",
    "#lr_b= 0.1\n",
    "#Accuracy:  0.855\n",
    "#\n",
    "#lr_a = 0.5\n",
    "#lr_b= 21\n",
    "#Accuracy:  0.885 как максимум до которого дошла подором\n",
    "#\n",
    "#lr_a = 0.5\n",
    "#lr_b= 0.01\n",
    "#Accuracy: 0.79"
   ]
  }
 ],
 "metadata": {
  "kernelspec": {
   "display_name": "Python 3 (ipykernel)",
   "language": "python",
   "name": "python3"
  },
  "language_info": {
   "codemirror_mode": {
    "name": "ipython",
    "version": 3
   },
   "file_extension": ".py",
   "mimetype": "text/x-python",
   "name": "python",
   "nbconvert_exporter": "python",
   "pygments_lexer": "ipython3",
   "version": "3.9.7"
  }
 },
 "nbformat": 4,
 "nbformat_minor": 5
}
