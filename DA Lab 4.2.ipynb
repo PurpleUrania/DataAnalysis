{
 "cells": [
  {
   "cell_type": "code",
   "execution_count": 1,
   "id": "6907885c",
   "metadata": {},
   "outputs": [],
   "source": [
    "from keras.datasets import fashion_mnist\n",
    "from keras.models import Sequential\n",
    "from keras.layers import Dense, Dropout, Conv2D, MaxPool2D, Flatten\n",
    "from keras.utils import np_utils\n",
    "import os # accessing directory structure\n",
    "from sklearn.metrics import accuracy_score\n",
    "import keras\n",
    "from keras.preprocessing.image import ImageDataGenerator\n",
    "from keras import Model, layers\n",
    "from keras.models import load_model, model_from_json\n",
    "from keras.applications.mobilenet import MobileNet ,preprocess_input\n",
    "\n",
    "import matplotlib.pyplot as plt"
   ]
  },
  {
   "cell_type": "code",
   "execution_count": 2,
   "id": "1e59c133",
   "metadata": {},
   "outputs": [
    {
     "name": "stdout",
     "output_type": "stream",
     "text": [
      "['train', 'validation']\n"
     ]
    }
   ],
   "source": [
    "print(os.listdir('D:\\data'))"
   ]
  },
  {
   "cell_type": "code",
   "execution_count": 3,
   "id": "6060b413",
   "metadata": {},
   "outputs": [],
   "source": [
    "train_dir='D:\\data/train'\n",
    "test_dir='D:\\data/validation'   #чужой против хищника датасет"
   ]
  },
  {
   "cell_type": "code",
   "execution_count": 5,
   "id": "331dc894",
   "metadata": {},
   "outputs": [
    {
     "name": "stdout",
     "output_type": "stream",
     "text": [
      "Found 694 images belonging to 2 classes.\n",
      "Found 200 images belonging to 2 classes.\n"
     ]
    }
   ],
   "source": [
    "import tensorflow as tf   \n",
    "\n",
    "training=tf.keras.preprocessing.image.ImageDataGenerator(\n",
    "    zca_epsilon=1e-06,\n",
    "    rotation_range=30,\n",
    "    width_shift_range=0.1,\n",
    "    height_shift_range=0.1,\n",
    "    shear_range=0.1,\n",
    "    zoom_range=0.1,\n",
    "    fill_mode=\"nearest\",\n",
    "    horizontal_flip=True,\n",
    "    vertical_flip=True,\n",
    "    preprocessing_function=preprocess_input,\n",
    ").flow_from_directory(train_dir,batch_size=8,target_size=(224,224),subset=\"training\")\n",
    "\n",
    "validing=tf.keras.preprocessing.image.ImageDataGenerator(\n",
    "    rotation_range=30,\n",
    "    width_shift_range=0.1,\n",
    "    height_shift_range=0.1,\n",
    "    shear_range=0.1,\n",
    "    zoom_range=0.1,\n",
    "    fill_mode=\"nearest\",\n",
    "    horizontal_flip=True,\n",
    "    vertical_flip=True,\n",
    "    preprocessing_function=preprocess_input,\n",
    ").flow_from_directory(test_dir,batch_size=8,target_size=(224,224),shuffle=True)"
   ]
  },
  {
   "cell_type": "code",
   "execution_count": 6,
   "id": "dff398ea",
   "metadata": {},
   "outputs": [],
   "source": [
    "mobilenet=MobileNet(include_top=False,weights='imagenet',input_shape=(224,224,3))"
   ]
  },
  {
   "cell_type": "code",
   "execution_count": 7,
   "id": "b66ad055",
   "metadata": {},
   "outputs": [],
   "source": [
    "from keras.layers import Dense ,Flatten ,Conv2D ,MaxPooling2D ,Dropout ,BatchNormalization\n",
    "model=Sequential([\n",
    "    mobilenet,\n",
    "    MaxPooling2D(3,2),\n",
    "    Flatten(),\n",
    "    Dense(128,activation='relu'),\n",
    "    Dense(256,activation='relu'),\n",
    "    Dense(2,activation='softmax')  #softmax gives better result than sigmoid\n",
    "])"
   ]
  },
  {
   "cell_type": "code",
   "execution_count": 8,
   "id": "3198e6ce",
   "metadata": {},
   "outputs": [
    {
     "name": "stdout",
     "output_type": "stream",
     "text": [
      "Model: \"sequential\"\n",
      "_________________________________________________________________\n",
      " Layer (type)                Output Shape              Param #   \n",
      "=================================================================\n",
      " mobilenet_1.00_224 (Functio  (None, 7, 7, 1024)       3228864   \n",
      " nal)                                                            \n",
      "                                                                 \n",
      " max_pooling2d (MaxPooling2D  (None, 3, 3, 1024)       0         \n",
      " )                                                               \n",
      "                                                                 \n",
      " flatten (Flatten)           (None, 9216)              0         \n",
      "                                                                 \n",
      " dense (Dense)               (None, 128)               1179776   \n",
      "                                                                 \n",
      " dense_1 (Dense)             (None, 256)               33024     \n",
      "                                                                 \n",
      " dense_2 (Dense)             (None, 2)                 514       \n",
      "                                                                 \n",
      "=================================================================\n",
      "Total params: 4,442,178\n",
      "Trainable params: 4,420,290\n",
      "Non-trainable params: 21,888\n",
      "_________________________________________________________________\n"
     ]
    }
   ],
   "source": [
    "model.summary()"
   ]
  },
  {
   "cell_type": "code",
   "execution_count": 9,
   "id": "636557bd",
   "metadata": {
    "scrolled": true
   },
   "outputs": [
    {
     "name": "stdout",
     "output_type": "stream",
     "text": [
      "Epoch 1/20\n",
      "87/87 [==============================] - 66s 731ms/step - loss: 1.9857 - accuracy: 0.7248 - val_loss: 0.6680 - val_accuracy: 0.7900\n",
      "Epoch 2/20\n",
      "87/87 [==============================] - 85s 982ms/step - loss: 0.5996 - accuracy: 0.7867 - val_loss: 0.7154 - val_accuracy: 0.8200\n",
      "Epoch 3/20\n",
      "87/87 [==============================] - 81s 933ms/step - loss: 0.5007 - accuracy: 0.8040 - val_loss: 0.3603 - val_accuracy: 0.8350\n",
      "Epoch 4/20\n",
      "87/87 [==============================] - 75s 867ms/step - loss: 0.3847 - accuracy: 0.8516 - val_loss: 0.4823 - val_accuracy: 0.8350\n",
      "Epoch 5/20\n",
      "87/87 [==============================] - 63s 723ms/step - loss: 0.2653 - accuracy: 0.8919 - val_loss: 0.2797 - val_accuracy: 0.9100\n",
      "Epoch 6/20\n",
      "87/87 [==============================] - 63s 725ms/step - loss: 0.3403 - accuracy: 0.8602 - val_loss: 0.3953 - val_accuracy: 0.8800\n",
      "Epoch 7/20\n",
      "87/87 [==============================] - 68s 785ms/step - loss: 0.3025 - accuracy: 0.8790 - val_loss: 0.4334 - val_accuracy: 0.8300\n",
      "Epoch 8/20\n",
      "87/87 [==============================] - 77s 885ms/step - loss: 0.2746 - accuracy: 0.8905 - val_loss: 0.3800 - val_accuracy: 0.8750\n",
      "Epoch 9/20\n",
      "87/87 [==============================] - 71s 810ms/step - loss: 0.3158 - accuracy: 0.8732 - val_loss: 0.3910 - val_accuracy: 0.8650\n",
      "Epoch 10/20\n",
      "87/87 [==============================] - 70s 799ms/step - loss: 0.2747 - accuracy: 0.8934 - val_loss: 0.4156 - val_accuracy: 0.7950\n",
      "Epoch 11/20\n",
      "87/87 [==============================] - 74s 851ms/step - loss: 0.2509 - accuracy: 0.8991 - val_loss: 0.3214 - val_accuracy: 0.8600\n",
      "Epoch 12/20\n",
      "87/87 [==============================] - 79s 906ms/step - loss: 0.2771 - accuracy: 0.8948 - val_loss: 0.3381 - val_accuracy: 0.8400\n",
      "Epoch 13/20\n",
      "87/87 [==============================] - 72s 825ms/step - loss: 0.2764 - accuracy: 0.8991 - val_loss: 0.3011 - val_accuracy: 0.8650\n",
      "Epoch 14/20\n",
      "87/87 [==============================] - 71s 815ms/step - loss: 0.3118 - accuracy: 0.9020 - val_loss: 0.4011 - val_accuracy: 0.8350\n",
      "Epoch 15/20\n",
      "87/87 [==============================] - 84s 963ms/step - loss: 0.2825 - accuracy: 0.8977 - val_loss: 0.2637 - val_accuracy: 0.8500\n",
      "Epoch 16/20\n",
      "87/87 [==============================] - 79s 902ms/step - loss: 0.3662 - accuracy: 0.8689 - val_loss: 0.4431 - val_accuracy: 0.7350\n",
      "Epoch 17/20\n",
      "87/87 [==============================] - 84s 965ms/step - loss: 0.2597 - accuracy: 0.9092 - val_loss: 0.4877 - val_accuracy: 0.7200\n",
      "Epoch 18/20\n",
      "87/87 [==============================] - 87s 1s/step - loss: 0.2767 - accuracy: 0.8991 - val_loss: 0.4907 - val_accuracy: 0.7850\n",
      "Epoch 19/20\n",
      "87/87 [==============================] - 88s 1s/step - loss: 0.3074 - accuracy: 0.8905 - val_loss: 0.4181 - val_accuracy: 0.8400\n",
      "Epoch 20/20\n",
      "87/87 [==============================] - 86s 985ms/step - loss: 0.3286 - accuracy: 0.8732 - val_loss: 0.5914 - val_accuracy: 0.8400\n"
     ]
    }
   ],
   "source": [
    "from tensorflow.keras.callbacks import  EarlyStopping\n",
    "#e = EarlyStopping(patience=3,restore_best_weights= True) \n",
    "model.compile(loss='categorical_crossentropy', metrics=[\"accuracy\"],optimizer='adam')\n",
    "history=model.fit(training,validation_data=validing,epochs=20,batch_size=64, verbose=1)"
   ]
  },
  {
   "cell_type": "code",
   "execution_count": 10,
   "id": "37ae11a1",
   "metadata": {},
   "outputs": [
    {
     "data": {
      "image/png": "[encoded data removed]",
      "text/plain": [
       "<Figure size 432x288 with 1 Axes>"
      ]
     },
     "metadata": {
      "needs_background": "light"
     },
     "output_type": "display_data"
    }
   ],
   "source": [
    "history_dict = history.history\n",
    "history_dict.keys()\n",
    "\n",
    "history_dict = history.history\n",
    "loss_values = history_dict[\"loss\"]\n",
    "val_loss_values = history_dict[\"val_loss\"]\n",
    "epochs = range(1, len(loss_values) + 1)\n",
    "plt.plot(epochs, loss_values, \"bo\", label=\"Training loss\")\n",
    "plt.plot(epochs, val_loss_values, \"b\", label=\"Validation loss\")\n",
    "plt.title(\"Training and validation loss\")\n",
    "plt.xlabel(\"Epochs\")\n",
    "plt.ylabel(\"Loss\")\n",
    "plt.legend()\n",
    "plt.show()"
   ]
  },
  {
   "cell_type": "code",
   "execution_count": 11,
   "id": "f4496b54",
   "metadata": {},
   "outputs": [
    {
     "name": "stdout",
     "output_type": "stream",
     "text": [
      "25/25 [==============================] - 7s 268ms/step - loss: 0.6957 - accuracy: 0.7750\n",
      "Test score: 0.695720374584198\n",
      "Test accuracy: 0.7749999761581421\n"
     ]
    }
   ],
   "source": [
    "score = model.evaluate(validing) \n",
    "print('Test score:', score[0]) \n",
    "print('Test accuracy:', score[1])"
   ]
  },
  {
   "cell_type": "code",
   "execution_count": null,
   "id": "ec5f072e",
   "metadata": {},
   "outputs": [],
   "source": []
  }
 ],
 "metadata": {
  "kernelspec": {
   "display_name": "Python 3 (ipykernel)",
   "language": "python",
   "name": "python3"
  },
  "language_info": {
   "codemirror_mode": {
    "name": "ipython",
    "version": 3
   },
   "file_extension": ".py",
   "mimetype": "text/x-python",
   "name": "python",
   "nbconvert_exporter": "python",
   "pygments_lexer": "ipython3",
   "version": "3.7.9"
  }
 },
 "nbformat": 4,
 "nbformat_minor": 5
}
