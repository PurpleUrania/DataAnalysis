{
 "cells": [
  {
   "cell_type": "code",
   "execution_count": 1,
   "id": "aaf4ef08",
   "metadata": {},
   "outputs": [],
   "source": [
    "#Зниження розмірності і візуалізація даних\n",
    "\n",
    "import pandas as pd\n",
    "import numpy as np\n",
    "import matplotlib.pyplot as plt\n",
    "\n",
    "\n",
    "from sklearn.preprocessing import StandardScaler\n",
    "from sklearn.preprocessing import LabelEncoder\n",
    "from sklearn.preprocessing import MinMaxScaler\n",
    "from sklearn.decomposition import PCA\n",
    "from sklearn.manifold import TSNE\n",
    "\n",
    "import seaborn as sns\n",
    "\n",
    "\n",
    "df = pd.read_csv(\"D:\\Downloads\\Video_games_esrb_rating.csv\",sep=\",\", low_memory=False)  #завантажит дані"
   ]
  },
  {
   "cell_type": "code",
   "execution_count": 2,
   "id": "25dd544d",
   "metadata": {},
   "outputs": [
    {
     "data": {
      "text/plain": [
       "Index(['title', 'console', 'alcohol_reference', 'animated_blood', 'blood',\n",
       "       'blood_and_gore', 'cartoon_violence', 'crude_humor', 'drug_reference',\n",
       "       'fantasy_violence', 'intense_violence', 'language', 'lyrics',\n",
       "       'mature_humor', 'mild_blood', 'mild_cartoon_violence',\n",
       "       'mild_fantasy_violence', 'mild_language', 'mild_lyrics',\n",
       "       'mild_suggestive_themes', 'mild_violence', 'no_descriptors', 'nudity',\n",
       "       'partial_nudity', 'sexual_content', 'sexual_themes',\n",
       "       'simulated_gambling', 'strong_janguage', 'strong_sexual_content',\n",
       "       'suggestive_themes', 'use_of_alcohol', 'use_of_drugs_and_alcohol',\n",
       "       'violence', 'esrb_rating'],\n",
       "      dtype='object')"
      ]
     },
     "execution_count": 2,
     "metadata": {},
     "output_type": "execute_result"
    }
   ],
   "source": [
    "df.keys()  #фичи"
   ]
  },
  {
   "cell_type": "code",
   "execution_count": 3,
   "id": "a9892343",
   "metadata": {},
   "outputs": [
    {
     "name": "stdout",
     "output_type": "stream",
     "text": [
      "<class 'pandas.core.frame.DataFrame'>\n",
      "RangeIndex: 1895 entries, 0 to 1894\n",
      "Data columns (total 33 columns):\n",
      " #   Column                    Non-Null Count  Dtype\n",
      "---  ------                    --------------  -----\n",
      " 0   console                   1895 non-null   int64\n",
      " 1   alcohol_reference         1895 non-null   int64\n",
      " 2   animated_blood            1895 non-null   int64\n",
      " 3   blood                     1895 non-null   int64\n",
      " 4   blood_and_gore            1895 non-null   int64\n",
      " 5   cartoon_violence          1895 non-null   int64\n",
      " 6   crude_humor               1895 non-null   int64\n",
      " 7   drug_reference            1895 non-null   int64\n",
      " 8   fantasy_violence          1895 non-null   int64\n",
      " 9   intense_violence          1895 non-null   int64\n",
      " 10  language                  1895 non-null   int64\n",
      " 11  lyrics                    1895 non-null   int64\n",
      " 12  mature_humor              1895 non-null   int64\n",
      " 13  mild_blood                1895 non-null   int64\n",
      " 14  mild_cartoon_violence     1895 non-null   int64\n",
      " 15  mild_fantasy_violence     1895 non-null   int64\n",
      " 16  mild_language             1895 non-null   int64\n",
      " 17  mild_lyrics               1895 non-null   int64\n",
      " 18  mild_suggestive_themes    1895 non-null   int64\n",
      " 19  mild_violence             1895 non-null   int64\n",
      " 20  no_descriptors            1895 non-null   int64\n",
      " 21  nudity                    1895 non-null   int64\n",
      " 22  partial_nudity            1895 non-null   int64\n",
      " 23  sexual_content            1895 non-null   int64\n",
      " 24  sexual_themes             1895 non-null   int64\n",
      " 25  simulated_gambling        1895 non-null   int64\n",
      " 26  strong_janguage           1895 non-null   int64\n",
      " 27  strong_sexual_content     1895 non-null   int64\n",
      " 28  suggestive_themes         1895 non-null   int64\n",
      " 29  use_of_alcohol            1895 non-null   int64\n",
      " 30  use_of_drugs_and_alcohol  1895 non-null   int64\n",
      " 31  violence                  1895 non-null   int64\n",
      " 32  esrb_rating               1895 non-null   int64\n",
      "dtypes: int64(33)\n",
      "memory usage: 488.7 KB\n"
     ]
    },
    {
     "data": {
      "text/plain": [
       "blood                     int64\n",
       "blood_and_gore            int64\n",
       "crude_humor               int64\n",
       "intense_violence          int64\n",
       "language                  int64\n",
       "mild_blood                int64\n",
       "mild_cartoon_violence     int64\n",
       "mild_fantasy_violence     int64\n",
       "mild_suggestive_themes    int64\n",
       "no_descriptors            int64\n",
       "sexual_content            int64\n",
       "sexual_themes             int64\n",
       "simulated_gambling        int64\n",
       "suggestive_themes         int64\n",
       "violence                  int64\n",
       "esrb_rating               int64\n",
       "dtype: object"
      ]
     },
     "execution_count": 3,
     "metadata": {},
     "output_type": "execute_result"
    }
   ],
   "source": [
    "df=df.drop(['title'], axis = 1)  #расчесываем данные аналогично прошлой лабе(2)\n",
    "s = df['esrb_rating']\n",
    "s, unique = pd.factorize(s)\n",
    "df['esrb_rating'] = s\n",
    "df.info()\n",
    "df=df.drop(['fantasy_violence','alcohol_reference','cartoon_violence','console','animated_blood', 'mild_lyrics', 'mild_language', 'strong_sexual_content', 'nudity', 'use_of_drugs_and_alcohol', 'partial_nudity', 'mild_violence', 'mature_humor', 'use_of_alcohol', 'drug_reference', 'strong_janguage', 'lyrics'], axis = 1)\n",
    "df.dtypes"
   ]
  },
  {
   "cell_type": "code",
   "execution_count": 4,
   "id": "70f79d02",
   "metadata": {},
   "outputs": [],
   "source": [
    "continuousColumns = [\"blood\", \"blood_and_gore\", \"crude_humor\", \"intense_violence\", \"language\", \"mild_blood\", \"mild_cartoon_violence\", \"mild_fantasy_violence\", \"mild_suggestive_themes\", \"no_descriptors\", \"sexual_content\", \"sexual_themes\", \"simulated_gambling\", \"suggestive_themes\", \"violence\"]"
   ]
  },
  {
   "cell_type": "code",
   "execution_count": 5,
   "id": "ae9ba11d",
   "metadata": {},
   "outputs": [],
   "source": [
    "minMaxScaler = MinMaxScaler() #масштабирует в приделах задан. диапазона 0-1, именно колонки\n",
    "scaledColums = pd.DataFrame(minMaxScaler.fit_transform(df[continuousColumns]),columns=continuousColumns)"
   ]
  },
  {
   "cell_type": "code",
   "execution_count": 24,
   "id": "4b24f452",
   "metadata": {},
   "outputs": [],
   "source": [
    "pca = PCA()   \n",
    "X_pca = pca.fit_transform(scaledColums)  #пса работает на колонках\n",
    "exp_var_pca = pca.explained_variance_ratio_  #вектор- дисперсия для кажд столбика(фичи) \n",
    "cum_sum_eigenvalues = np.cumsum(exp_var_pca) #вернет сумму по дисперсии"
   ]
  },
  {
   "cell_type": "code",
   "execution_count": 25,
   "id": "009c15d0",
   "metadata": {},
   "outputs": [
    {
     "data": {
      "image/png": "[encoded data removed]",
      "text/plain": [
       "<Figure size 432x288 with 1 Axes>"
      ]
     },
     "metadata": {
      "needs_background": "light"
     },
     "output_type": "display_data"
    }
   ],
   "source": [
    "plt.bar(range(0,len(exp_var_pca)), exp_var_pca, align='center', label='Explained variance')\n",
    "plt.step(range(0,len(cum_sum_eigenvalues)), cum_sum_eigenvalues, where='mid',label='Cumulative explained variance')\n",
    "plt.ylabel('Explained variance')\n",
    "plt.xlabel('Principal component')\n",
    "plt.legend(loc='best')\n",
    "plt.tight_layout()\n",
    "plt.show()     #кол-во колонок"
   ]
  },
  {
   "cell_type": "code",
   "execution_count": 26,
   "id": "02c0d530",
   "metadata": {},
   "outputs": [
    {
     "data": {
      "image/png": "[encoded data removed]",
      "text/plain": [
       "<Figure size 432x288 with 1 Axes>"
      ]
     },
     "metadata": {
      "needs_background": "light"
     },
     "output_type": "display_data"
    }
   ],
   "source": [
    "pca = PCA(n_components=2)  #самая большая разница между кол-вом\n",
    "pca_result = pca.fit_transform(df)  #трансформируем в с2 фичи\n",
    "\n",
    "pca_result_df = pd.DataFrame({'pca_1': pca_result[:,0], 'pca_2': pca_result[:,1]}) \n",
    "\n",
    "fig, ax = plt.subplots(1)\n",
    "sns.scatterplot(x='pca_1', y='pca_2', data=pca_result_df, ax=ax,s=10)  \n",
    "lim = (pca_result.min()-5, pca_result.max()+5)\n",
    "ax.set_xlim(lim)\n",
    "ax.set_ylim(lim)\n",
    "ax.set_aspect('equal')"
   ]
  },
  {
   "cell_type": "code",
   "execution_count": 28,
   "id": "2f74461a",
   "metadata": {},
   "outputs": [
    {
     "data": {
      "image/png": "[encoded data removed]",
      "text/plain": [
       "<Figure size 432x288 with 1 Axes>"
      ]
     },
     "metadata": {
      "needs_background": "light"
     },
     "output_type": "display_data"
    }
   ],
   "source": [
    "tsne = TSNE(n_components=2)\n",
    "tsne_result = tsne.fit_transform(df)   #для визуализации до 2х измерений, разница - т-распределение стьюдента\n",
    "tsne_result_df = pd.DataFrame({'tsne_1': tsne_result[:,0], 'tsne_2': tsne_result[:,1]})\n",
    "\n",
    "fig, ax = plt.subplots(1)\n",
    "sns.scatterplot(x='tsne_1', y='tsne_2', data=tsne_result_df, ax=ax,s=10)\n",
    "lim = (tsne_result.min()-5, tsne_result.max()+5)\n",
    "ax.set_xlim(lim)\n",
    "ax.set_ylim(lim)\n",
    "ax.set_aspect('equal')"
   ]
  },
  {
   "cell_type": "code",
   "execution_count": null,
   "id": "90af702a",
   "metadata": {},
   "outputs": [],
   "source": []
  }
 ],
 "metadata": {
  "kernelspec": {
   "display_name": "Python 3 (ipykernel)",
   "language": "python",
   "name": "python3"
  },
  "language_info": {
   "codemirror_mode": {
    "name": "ipython",
    "version": 3
   },
   "file_extension": ".py",
   "mimetype": "text/x-python",
   "name": "python",
   "nbconvert_exporter": "python",
   "pygments_lexer": "ipython3",
   "version": "3.7.9"
  }
 },
 "nbformat": 4,
 "nbformat_minor": 5
}
