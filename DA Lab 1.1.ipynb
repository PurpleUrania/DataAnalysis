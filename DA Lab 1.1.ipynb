{
 "cells": [
  {
   "cell_type": "code",
   "execution_count": 17,
   "id": "72df1912",
   "metadata": {},
   "outputs": [
    {
     "name": "stdout",
     "output_type": "stream",
     "text": [
      "First a:  3\n",
      "Fitst b:  4\n",
      "A predict:  3.019478501580993\n",
      "B predict:  4.033170902564835\n"
     ]
    },
    {
     "data": {
      "image/png": "[encoded data removed]",
      "text/plain": [
       "<Figure size 432x288 with 1 Axes>"
      ]
     },
     "metadata": {
      "needs_background": "light"
     },
     "output_type": "display_data"
    }
   ],
   "source": [
    "import matplotlib.pyplot as plt\n",
    "%matplotlib inline  \n",
    "from math import fabs\n",
    "import numpy as np\n",
    "\n",
    "np.random.seed(0)\n",
    "\n",
    "# generation of synthetic dataset for regression problem\n",
    "num_points = 50 #кол-во нужных точек\n",
    "a = 3\n",
    "b = 4\n",
    "#создание шума, рандом от 0 до 1, кол-во точек\n",
    "# нормальное распределение, мю=0, сигма=1\n",
    "#среднее и стандартное отклонение\n",
    "\n",
    "noise = np.random.normal(0, 0.5, num_points) \n",
    "\n",
    "# случайный набор точек х\n",
    "x = np.random.random(num_points)\n",
    "y = a * x + b + noise\n",
    "#создание точек блю цвета\n",
    "plt.scatter(x, y, marker = '*', color = 'b')\n",
    "plt.plot()\n",
    "\n",
    "#график зеленой линии c начальными параметрами\n",
    "plt.plot(x, a * x + b, color = 'g')\n",
    "#вывод начальных параметров\n",
    "print ('First a: ', a)\n",
    "print ('Fitst b: ', b)\n",
    "\n",
    "#задача линейной регрессии, поиск лучшей линии\n",
    "\n",
    "\n",
    "L = 0.08 #лернинг рейт или шаг - на лекции\n",
    "Da,Db = 0, 0 #параметры от которых начинается градиентный спуск\n",
    "n = float(len(x)) #конверт в флоат формат \n",
    "#лінійна регресія\n",
    "\n",
    "\n",
    "while True:  #уменьшение шага с каждым \"лупом\"\n",
    "    bias = 0.01 #смещение значения (разница) а или b при \n",
    "    #перезапись значений, \"передвигаем линию\"\n",
    "    Da_prev = Da\n",
    "    Db_prev = Db\n",
    "    yPrev = a*x + b  # сперва с начал. значениями, потом перезапись \n",
    "    # квадратичная ошибка для а и б\n",
    "    Da = (-2/n) * sum(x * (y - yPrev))\n",
    "    Db = (-2/n) * sum(y - yPrev)\n",
    "    #перезапись : градиентный спуск тета = тета - гиперпараметр*(тета) \n",
    "    a = a - L * Da\n",
    "    b = b - L * Db\n",
    "    if fabs(Da - Da_prev)<bias or (fabs(Db - Db_prev)<bias):  #ограничение, считаем как минимум fabs - модуль\n",
    "        break;\n",
    "\n",
    "yPrev = a*x + b # построение графика лин регрессии с подобранными а и б\n",
    "\n",
    "plt.plot(x, yPrev, color='r')\n",
    "\n",
    "plt.xlabel('X')\n",
    "plt.ylabel('Y')\n",
    "plt.grid()\n",
    "\n",
    "\n",
    "print ('A predict: ', a)\n",
    "\n",
    "print ('B predict: ', b)\n"
   ]
  },
  {
   "cell_type": "code",
   "execution_count": 15,
   "id": "448bd24b",
   "metadata": {},
   "outputs": [],
   "source": [
    "#при n = 50\n",
    "#A predict:  3.019478501580993\n",
    "#B predict:  4.033170902564835\n",
    "\n",
    "# nри n = 100\n",
    "#A predict:  3.0032708684672373\n",
    "#B predict:  4.008655458718297\n",
    "\n",
    "# nри n = 10\n",
    "#A predict:  3.159397718979234\n",
    "#B predict:  4.2613071989773745\n",
    "\n",
    "#bias = 0.001 n = 50\n",
    "#A predict:  3.0379445685927244\n",
    "#B predict:  4.05253345470598\n",
    "\n",
    "#bias = 0.01 n = 50\n",
    "#A predict:  3.019478501580993\n",
    "#B predict:  4.033170902564835\n",
    "\n",
    "#bias = 0.1 n = 50\n",
    "#A predict:  3.0062931693981616\n",
    "#B predict:  4.011244741785048"
   ]
  }
 ],
 "metadata": {
  "kernelspec": {
   "display_name": "Python 3 (ipykernel)",
   "language": "python",
   "name": "python3"
  },
  "language_info": {
   "codemirror_mode": {
    "name": "ipython",
    "version": 3
   },
   "file_extension": ".py",
   "mimetype": "text/x-python",
   "name": "python",
   "nbconvert_exporter": "python",
   "pygments_lexer": "ipython3",
   "version": "3.9.7"
  }
 },
 "nbformat": 4,
 "nbformat_minor": 5
}
